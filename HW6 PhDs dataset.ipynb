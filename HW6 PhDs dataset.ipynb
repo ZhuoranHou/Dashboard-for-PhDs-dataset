{
 "cells": [
  {
   "cell_type": "markdown",
   "metadata": {},
   "source": [
    "## HW 6  PhDs dataset\n",
    "### Zhuoran Hou zh105"
   ]
  },
  {
   "cell_type": "markdown",
   "metadata": {},
   "source": [
    "Download data of PhDs awarded in the US. Do some analysis in pandas. Make a dashboard visualization of a few interesting aspects of the data using dash or streamlit. Blog.\n",
    "dataset: https://ncses.nsf.gov/pubs/nsf19301/data"
   ]
  },
  {
   "cell_type": "markdown",
   "metadata": {},
   "source": [
    "### 1. Read the dataset and data cleaning"
   ]
  },
  {
   "cell_type": "markdown",
   "metadata": {},
   "source": [
    "For this collection of datasets, I want to explore the number of doctorate recipients by major field of study, sex and citizenship in the selected years from 1987 to 2017. <br>\n",
    "Thus, I planed to explore table 14 and table 17."
   ]
  },
  {
   "cell_type": "code",
   "execution_count": 38,
   "metadata": {},
   "outputs": [],
   "source": [
    "import pandas as pd\n",
    "import numpy as np"
   ]
  },
  {
   "cell_type": "markdown",
   "metadata": {},
   "source": [
    "#### - Data cleaning for table 14"
   ]
  },
  {
   "cell_type": "code",
   "execution_count": 230,
   "metadata": {},
   "outputs": [],
   "source": [
    "df1 = pd.read_excel('D:\\\\3.Duke\\\\course\\\\Year_2\\\\semester_1\\\\2_Bios823\\\\HW\\\\HW6\\\\data_tables\\\\sed17-sr-tab014.xlsx')"
   ]
  },
  {
   "cell_type": "markdown",
   "metadata": {},
   "source": [
    "- Choose columnes that we are interested in."
   ]
  },
  {
   "cell_type": "code",
   "execution_count": 231,
   "metadata": {},
   "outputs": [],
   "source": [
    "df1 = df1.iloc[7:,[0,1,3,5,7,9,11,13]]   "
   ]
  },
  {
   "cell_type": "code",
   "execution_count": 232,
   "metadata": {},
   "outputs": [],
   "source": [
    "df1.columns = ['Field of study and sex','1987','1992','1997','2002','2007','2012','2017']"
   ]
  },
  {
   "cell_type": "code",
   "execution_count": 233,
   "metadata": {},
   "outputs": [],
   "source": [
    "df1['Field of study and sex'][7] = 'Life sciences'  ## rename some field names\n",
    "df1['Field of study and sex'][28] = 'Other'"
   ]
  },
  {
   "cell_type": "code",
   "execution_count": 234,
   "metadata": {},
   "outputs": [],
   "source": [
    "df1 = df1.reset_index().drop(columns=['index'])"
   ]
  },
  {
   "cell_type": "code",
   "execution_count": 235,
   "metadata": {},
   "outputs": [
    {
     "data": {
      "text/html": [
       "<div>\n",
       "<style scoped>\n",
       "    .dataframe tbody tr th:only-of-type {\n",
       "        vertical-align: middle;\n",
       "    }\n",
       "\n",
       "    .dataframe tbody tr th {\n",
       "        vertical-align: top;\n",
       "    }\n",
       "\n",
       "    .dataframe thead th {\n",
       "        text-align: right;\n",
       "    }\n",
       "</style>\n",
       "<table border=\"1\" class=\"dataframe\">\n",
       "  <thead>\n",
       "    <tr style=\"text-align: right;\">\n",
       "      <th></th>\n",
       "      <th>Field of study and sex</th>\n",
       "      <th>1987</th>\n",
       "      <th>1992</th>\n",
       "      <th>1997</th>\n",
       "      <th>2002</th>\n",
       "      <th>2007</th>\n",
       "      <th>2012</th>\n",
       "      <th>2017</th>\n",
       "      <th>Field of study</th>\n",
       "    </tr>\n",
       "  </thead>\n",
       "  <tbody>\n",
       "    <tr>\n",
       "      <th>0</th>\n",
       "      <td>Life sciences</td>\n",
       "      <td>5783</td>\n",
       "      <td>7141</td>\n",
       "      <td>8365</td>\n",
       "      <td>8465</td>\n",
       "      <td>10694</td>\n",
       "      <td>11949</td>\n",
       "      <td>12587</td>\n",
       "      <td>Life sciences</td>\n",
       "    </tr>\n",
       "    <tr>\n",
       "      <th>1</th>\n",
       "      <td>Male</td>\n",
       "      <td>3747</td>\n",
       "      <td>4322</td>\n",
       "      <td>4613</td>\n",
       "      <td>4443</td>\n",
       "      <td>5197</td>\n",
       "      <td>5335</td>\n",
       "      <td>5629</td>\n",
       "      <td>Life sciences</td>\n",
       "    </tr>\n",
       "    <tr>\n",
       "      <th>2</th>\n",
       "      <td>Female</td>\n",
       "      <td>2036</td>\n",
       "      <td>2819</td>\n",
       "      <td>3752</td>\n",
       "      <td>4022</td>\n",
       "      <td>5497</td>\n",
       "      <td>6614</td>\n",
       "      <td>6958</td>\n",
       "      <td>Life sciences</td>\n",
       "    </tr>\n",
       "    <tr>\n",
       "      <th>3</th>\n",
       "      <td>Physical sciences and earth sciences</td>\n",
       "      <td>3811</td>\n",
       "      <td>4486</td>\n",
       "      <td>4522</td>\n",
       "      <td>3871</td>\n",
       "      <td>4955</td>\n",
       "      <td>5414</td>\n",
       "      <td>6079</td>\n",
       "      <td>Physical sciences and earth sciences</td>\n",
       "    </tr>\n",
       "    <tr>\n",
       "      <th>4</th>\n",
       "      <td>Male</td>\n",
       "      <td>3177</td>\n",
       "      <td>3545</td>\n",
       "      <td>3489</td>\n",
       "      <td>2812</td>\n",
       "      <td>3447</td>\n",
       "      <td>3684</td>\n",
       "      <td>4068</td>\n",
       "      <td>Physical sciences and earth sciences</td>\n",
       "    </tr>\n",
       "  </tbody>\n",
       "</table>\n",
       "</div>"
      ],
      "text/plain": [
       "                 Field of study and sex  1987  1992  1997  2002   2007   2012  \\\n",
       "0                         Life sciences  5783  7141  8365  8465  10694  11949   \n",
       "1                                  Male  3747  4322  4613  4443   5197   5335   \n",
       "2                                Female  2036  2819  3752  4022   5497   6614   \n",
       "3  Physical sciences and earth sciences  3811  4486  4522  3871   4955   5414   \n",
       "4                                  Male  3177  3545  3489  2812   3447   3684   \n",
       "\n",
       "    2017                        Field of study  \n",
       "0  12587                         Life sciences  \n",
       "1   5629                         Life sciences  \n",
       "2   6958                         Life sciences  \n",
       "3   6079  Physical sciences and earth sciences  \n",
       "4   4068  Physical sciences and earth sciences  "
      ]
     },
     "execution_count": 235,
     "metadata": {},
     "output_type": "execute_result"
    }
   ],
   "source": [
    "df1['Field of study'] = df1.iloc[::3,0:1]['Field of study and sex'].repeat(repeats = 3).reset_index().drop(columns=['index'])\n",
    "df1.head()"
   ]
  },
  {
   "cell_type": "markdown",
   "metadata": {},
   "source": [
    "- Make the table tidy (into long form)"
   ]
  },
  {
   "cell_type": "code",
   "execution_count": 236,
   "metadata": {},
   "outputs": [],
   "source": [
    "df2 = pd.melt(df1, id_vars=['Field of study and sex','Field of study'],var_name='year', value_name='number')"
   ]
  },
  {
   "cell_type": "code",
   "execution_count": 237,
   "metadata": {},
   "outputs": [
    {
     "data": {
      "text/html": [
       "<div>\n",
       "<style scoped>\n",
       "    .dataframe tbody tr th:only-of-type {\n",
       "        vertical-align: middle;\n",
       "    }\n",
       "\n",
       "    .dataframe tbody tr th {\n",
       "        vertical-align: top;\n",
       "    }\n",
       "\n",
       "    .dataframe thead th {\n",
       "        text-align: right;\n",
       "    }\n",
       "</style>\n",
       "<table border=\"1\" class=\"dataframe\">\n",
       "  <thead>\n",
       "    <tr style=\"text-align: right;\">\n",
       "      <th></th>\n",
       "      <th>sex</th>\n",
       "      <th>Field of study</th>\n",
       "      <th>year</th>\n",
       "      <th>number</th>\n",
       "    </tr>\n",
       "  </thead>\n",
       "  <tbody>\n",
       "    <tr>\n",
       "      <th>0</th>\n",
       "      <td>All</td>\n",
       "      <td>Life sciences</td>\n",
       "      <td>1987</td>\n",
       "      <td>5783</td>\n",
       "    </tr>\n",
       "    <tr>\n",
       "      <th>1</th>\n",
       "      <td>Male</td>\n",
       "      <td>Life sciences</td>\n",
       "      <td>1987</td>\n",
       "      <td>3747</td>\n",
       "    </tr>\n",
       "    <tr>\n",
       "      <th>2</th>\n",
       "      <td>Female</td>\n",
       "      <td>Life sciences</td>\n",
       "      <td>1987</td>\n",
       "      <td>2036</td>\n",
       "    </tr>\n",
       "    <tr>\n",
       "      <th>3</th>\n",
       "      <td>All</td>\n",
       "      <td>Physical sciences and earth sciences</td>\n",
       "      <td>1987</td>\n",
       "      <td>3811</td>\n",
       "    </tr>\n",
       "    <tr>\n",
       "      <th>4</th>\n",
       "      <td>Male</td>\n",
       "      <td>Physical sciences and earth sciences</td>\n",
       "      <td>1987</td>\n",
       "      <td>3177</td>\n",
       "    </tr>\n",
       "  </tbody>\n",
       "</table>\n",
       "</div>"
      ],
      "text/plain": [
       "      sex                        Field of study  year  number\n",
       "0     All                         Life sciences  1987    5783\n",
       "1    Male                         Life sciences  1987    3747\n",
       "2  Female                         Life sciences  1987    2036\n",
       "3     All  Physical sciences and earth sciences  1987    3811\n",
       "4    Male  Physical sciences and earth sciences  1987    3177"
      ]
     },
     "execution_count": 237,
     "metadata": {},
     "output_type": "execute_result"
    }
   ],
   "source": [
    "df2.loc[~df2['Field of study and sex'].isin(['Male','Female']),'Field of study and sex'] = 'All'\n",
    "df2 = df2.rename(columns={\"Field of study and sex\": \"sex\"})\n",
    "df2[\"number\"] = df2[\"number\"].astype(int)\n",
    "df2[\"year\"] = df2[\"year\"].astype(int)\n",
    "df2.head()"
   ]
  },
  {
   "cell_type": "markdown",
   "metadata": {},
   "source": [
    "- Create a small subset that only contains overall information."
   ]
  },
  {
   "cell_type": "code",
   "execution_count": 238,
   "metadata": {},
   "outputs": [
    {
     "data": {
      "text/html": [
       "<div>\n",
       "<style scoped>\n",
       "    .dataframe tbody tr th:only-of-type {\n",
       "        vertical-align: middle;\n",
       "    }\n",
       "\n",
       "    .dataframe tbody tr th {\n",
       "        vertical-align: top;\n",
       "    }\n",
       "\n",
       "    .dataframe thead th {\n",
       "        text-align: right;\n",
       "    }\n",
       "</style>\n",
       "<table border=\"1\" class=\"dataframe\">\n",
       "  <thead>\n",
       "    <tr style=\"text-align: right;\">\n",
       "      <th></th>\n",
       "      <th>sex</th>\n",
       "      <th>Field of study</th>\n",
       "      <th>year</th>\n",
       "      <th>number</th>\n",
       "    </tr>\n",
       "  </thead>\n",
       "  <tbody>\n",
       "    <tr>\n",
       "      <th>0</th>\n",
       "      <td>All</td>\n",
       "      <td>Life sciences</td>\n",
       "      <td>1987</td>\n",
       "      <td>5783</td>\n",
       "    </tr>\n",
       "    <tr>\n",
       "      <th>1</th>\n",
       "      <td>All</td>\n",
       "      <td>Physical sciences and earth sciences</td>\n",
       "      <td>1987</td>\n",
       "      <td>3811</td>\n",
       "    </tr>\n",
       "    <tr>\n",
       "      <th>2</th>\n",
       "      <td>All</td>\n",
       "      <td>Mathematics and computer sciences</td>\n",
       "      <td>1987</td>\n",
       "      <td>1189</td>\n",
       "    </tr>\n",
       "    <tr>\n",
       "      <th>3</th>\n",
       "      <td>All</td>\n",
       "      <td>Psychology and social sciences</td>\n",
       "      <td>1987</td>\n",
       "      <td>6063</td>\n",
       "    </tr>\n",
       "    <tr>\n",
       "      <th>4</th>\n",
       "      <td>All</td>\n",
       "      <td>Engineering</td>\n",
       "      <td>1987</td>\n",
       "      <td>3712</td>\n",
       "    </tr>\n",
       "  </tbody>\n",
       "</table>\n",
       "</div>"
      ],
      "text/plain": [
       "   sex                        Field of study  year  number\n",
       "0  All                         Life sciences  1987    5783\n",
       "1  All  Physical sciences and earth sciences  1987    3811\n",
       "2  All     Mathematics and computer sciences  1987    1189\n",
       "3  All        Psychology and social sciences  1987    6063\n",
       "4  All                           Engineering  1987    3712"
      ]
     },
     "execution_count": 238,
     "metadata": {},
     "output_type": "execute_result"
    }
   ],
   "source": [
    "df2a = df2[df2['sex'] == 'All'].reset_index().drop(columns=['index'])\n",
    "df2a.head()"
   ]
  },
  {
   "cell_type": "markdown",
   "metadata": {},
   "source": [
    "- Create a small subset that contains information by sex."
   ]
  },
  {
   "cell_type": "code",
   "execution_count": 239,
   "metadata": {},
   "outputs": [
    {
     "data": {
      "text/html": [
       "<div>\n",
       "<style scoped>\n",
       "    .dataframe tbody tr th:only-of-type {\n",
       "        vertical-align: middle;\n",
       "    }\n",
       "\n",
       "    .dataframe tbody tr th {\n",
       "        vertical-align: top;\n",
       "    }\n",
       "\n",
       "    .dataframe thead th {\n",
       "        text-align: right;\n",
       "    }\n",
       "</style>\n",
       "<table border=\"1\" class=\"dataframe\">\n",
       "  <thead>\n",
       "    <tr style=\"text-align: right;\">\n",
       "      <th></th>\n",
       "      <th>sex</th>\n",
       "      <th>Field of study</th>\n",
       "      <th>year</th>\n",
       "      <th>number</th>\n",
       "    </tr>\n",
       "  </thead>\n",
       "  <tbody>\n",
       "    <tr>\n",
       "      <th>0</th>\n",
       "      <td>Male</td>\n",
       "      <td>Life sciences</td>\n",
       "      <td>1987</td>\n",
       "      <td>3747</td>\n",
       "    </tr>\n",
       "    <tr>\n",
       "      <th>1</th>\n",
       "      <td>Female</td>\n",
       "      <td>Life sciences</td>\n",
       "      <td>1987</td>\n",
       "      <td>2036</td>\n",
       "    </tr>\n",
       "    <tr>\n",
       "      <th>2</th>\n",
       "      <td>Male</td>\n",
       "      <td>Physical sciences and earth sciences</td>\n",
       "      <td>1987</td>\n",
       "      <td>3177</td>\n",
       "    </tr>\n",
       "    <tr>\n",
       "      <th>3</th>\n",
       "      <td>Female</td>\n",
       "      <td>Physical sciences and earth sciences</td>\n",
       "      <td>1987</td>\n",
       "      <td>634</td>\n",
       "    </tr>\n",
       "    <tr>\n",
       "      <th>4</th>\n",
       "      <td>Male</td>\n",
       "      <td>Mathematics and computer sciences</td>\n",
       "      <td>1987</td>\n",
       "      <td>999</td>\n",
       "    </tr>\n",
       "  </tbody>\n",
       "</table>\n",
       "</div>"
      ],
      "text/plain": [
       "      sex                        Field of study  year  number\n",
       "0    Male                         Life sciences  1987    3747\n",
       "1  Female                         Life sciences  1987    2036\n",
       "2    Male  Physical sciences and earth sciences  1987    3177\n",
       "3  Female  Physical sciences and earth sciences  1987     634\n",
       "4    Male     Mathematics and computer sciences  1987     999"
      ]
     },
     "execution_count": 239,
     "metadata": {},
     "output_type": "execute_result"
    }
   ],
   "source": [
    "df2 = (\n",
    "    df2[df2['sex'].isin(['Male','Female'])].\n",
    "    reset_index().drop(columns=['index'])\n",
    ")\n",
    "\n",
    "df2.head()"
   ]
  },
  {
   "cell_type": "markdown",
   "metadata": {},
   "source": [
    "#### - Data cleaning for table 17"
   ]
  },
  {
   "cell_type": "markdown",
   "metadata": {},
   "source": [
    "**The data cleaning for table 17 is similar to that of table 14.**"
   ]
  },
  {
   "cell_type": "code",
   "execution_count": 240,
   "metadata": {},
   "outputs": [],
   "source": [
    "df4 = pd.read_excel('D:\\\\3.Duke\\\\course\\\\Year_2\\\\semester_1\\\\2_Bios823\\\\HW\\\\HW6\\\\data_tables\\\\sed17-sr-tab017.xlsx')"
   ]
  },
  {
   "cell_type": "code",
   "execution_count": null,
   "metadata": {},
   "outputs": [],
   "source": [
    "df4 = pd.read_excel('D:\\\\3.Duke\\\\course\\\\Year_2\\\\semester_1\\\\2_Bios823\\\\HW\\\\HW6\\\\data_tables\\\\sed17-sr-tab017.xlsx')\n",
    "df4 = df4.iloc[7:,:]\n",
    "df4.columns = ['Field of study and citizenship','1987','1992','1997','2002','2007','2012','2017']\n",
    "df4['Field of study and citizenship'][7] = 'Life sciences'\n",
    "df4['Field of study and citizenship'][35] = 'Other'\n",
    "df4 = df4.reset_index().drop(columns=['index'])\n",
    "df4['Field of study'] = df4.iloc[::4,0:1]['Field of study and citizenship'].repeat(repeats = 4).reset_index().drop(columns=['index'])"
   ]
  },
  {
   "cell_type": "code",
   "execution_count": null,
   "metadata": {},
   "outputs": [],
   "source": [
    "df4['Field of study and citizenship'][7] = 'Life sciences'\n",
    "df4['Field of study and citizenship'][35] = 'Other'"
   ]
  },
  {
   "cell_type": "code",
   "execution_count": 244,
   "metadata": {},
   "outputs": [
    {
     "data": {
      "text/html": [
       "<div>\n",
       "<style scoped>\n",
       "    .dataframe tbody tr th:only-of-type {\n",
       "        vertical-align: middle;\n",
       "    }\n",
       "\n",
       "    .dataframe tbody tr th {\n",
       "        vertical-align: top;\n",
       "    }\n",
       "\n",
       "    .dataframe thead th {\n",
       "        text-align: right;\n",
       "    }\n",
       "</style>\n",
       "<table border=\"1\" class=\"dataframe\">\n",
       "  <thead>\n",
       "    <tr style=\"text-align: right;\">\n",
       "      <th></th>\n",
       "      <th>citizenship</th>\n",
       "      <th>Field of study</th>\n",
       "      <th>year</th>\n",
       "      <th>number</th>\n",
       "    </tr>\n",
       "  </thead>\n",
       "  <tbody>\n",
       "    <tr>\n",
       "      <th>0</th>\n",
       "      <td>U.S. citizen or permanent resident</td>\n",
       "      <td>Life sciences</td>\n",
       "      <td>1987</td>\n",
       "      <td>4529</td>\n",
       "    </tr>\n",
       "    <tr>\n",
       "      <th>1</th>\n",
       "      <td>Temporary visa holder</td>\n",
       "      <td>Life sciences</td>\n",
       "      <td>1987</td>\n",
       "      <td>939</td>\n",
       "    </tr>\n",
       "    <tr>\n",
       "      <th>2</th>\n",
       "      <td>Unknown</td>\n",
       "      <td>Life sciences</td>\n",
       "      <td>1987</td>\n",
       "      <td>315</td>\n",
       "    </tr>\n",
       "    <tr>\n",
       "      <th>3</th>\n",
       "      <td>U.S. citizen or permanent resident</td>\n",
       "      <td>Physical sciences and earth sciences</td>\n",
       "      <td>1987</td>\n",
       "      <td>2657</td>\n",
       "    </tr>\n",
       "    <tr>\n",
       "      <th>4</th>\n",
       "      <td>Temporary visa holder</td>\n",
       "      <td>Physical sciences and earth sciences</td>\n",
       "      <td>1987</td>\n",
       "      <td>929</td>\n",
       "    </tr>\n",
       "  </tbody>\n",
       "</table>\n",
       "</div>"
      ],
      "text/plain": [
       "                          citizenship                        Field of study  \\\n",
       "0  U.S. citizen or permanent resident                         Life sciences   \n",
       "1               Temporary visa holder                         Life sciences   \n",
       "2                             Unknown                         Life sciences   \n",
       "3  U.S. citizen or permanent resident  Physical sciences and earth sciences   \n",
       "4               Temporary visa holder  Physical sciences and earth sciences   \n",
       "\n",
       "   year  number  \n",
       "0  1987    4529  \n",
       "1  1987     939  \n",
       "2  1987     315  \n",
       "3  1987    2657  \n",
       "4  1987     929  "
      ]
     },
     "execution_count": 244,
     "metadata": {},
     "output_type": "execute_result"
    }
   ],
   "source": [
    "df5 = pd.melt(df4, id_vars=['Field of study and citizenship','Field of study'],var_name='year', value_name='number')\n",
    "df5 = df5.rename(columns={\"Field of study and citizenship\": \"citizenship\"})\n",
    "df5[\"number\"] = df5[\"number\"].astype(int)\n",
    "df5[\"year\"] = df5[\"year\"].astype(int)\n",
    "df5 = (\n",
    "    df5[df5['citizenship'].isin(['U.S. citizen or permanent resident','Temporary visa holder','Unknown'])].\n",
    "    reset_index().drop(columns=['index'])\n",
    ")\n",
    "df5.head()"
   ]
  },
  {
   "cell_type": "markdown",
   "metadata": {},
   "source": [
    "### 2. Create dashboard visualizations"
   ]
  },
  {
   "cell_type": "markdown",
   "metadata": {},
   "source": [
    "__Here I used the dash package to create dashboard in python.__"
   ]
  },
  {
   "cell_type": "code",
   "execution_count": 245,
   "metadata": {},
   "outputs": [],
   "source": [
    "import plotly.express as px\n",
    "import jupyter_dash\n",
    "from jupyter_dash import JupyterDash\n",
    "import dash_core_components as dcc\n",
    "import dash_html_components as html\n",
    "from dash.dependencies import Input, Output"
   ]
  },
  {
   "cell_type": "markdown",
   "metadata": {},
   "source": [
    "- Doctorate recipients by sex for selected years"
   ]
  },
  {
   "cell_type": "markdown",
   "metadata": {},
   "source": [
    "For this chart, you can drag the slider to change the selected year."
   ]
  },
  {
   "cell_type": "code",
   "execution_count": 246,
   "metadata": {},
   "outputs": [
    {
     "data": {
      "text/html": [
       "\n",
       "        <iframe\n",
       "            width=\"100%\"\n",
       "            height=\"650\"\n",
       "            src=\"http://127.0.0.1:8050/\"\n",
       "            frameborder=\"0\"\n",
       "            allowfullscreen\n",
       "        ></iframe>\n",
       "        "
      ],
      "text/plain": [
       "<IPython.lib.display.IFrame at 0x1e3d016e5b0>"
      ]
     },
     "metadata": {},
     "output_type": "display_data"
    }
   ],
   "source": [
    "external_stylesheets = ['https://codepen.io/chriddyp/pen/bWLwgP.css']\n",
    "\n",
    "app = JupyterDash(__name__, external_stylesheets=external_stylesheets)\n",
    "\n",
    "app.layout = html.Div([\n",
    "    dcc.Graph(id='graph-with-slider'),\n",
    "    dcc.Slider(\n",
    "        id='year-slider',\n",
    "        min=df2['year'].min(),\n",
    "        max=df2['year'].max(),\n",
    "        value=df2['year'].min(),\n",
    "        marks={str(year): str(year) for year in df2['year'].unique()},\n",
    "        step=None\n",
    "    )\n",
    "])\n",
    "\n",
    "\n",
    "@app.callback(\n",
    "    Output('graph-with-slider', 'figure'),\n",
    "    [Input('year-slider', 'value')])\n",
    "def update_figure(selected_year):\n",
    "    filtered_df = df2[df2.year == selected_year]\n",
    "\n",
    "    fig = px.bar(filtered_df, x=\"Field of study\", y=\"number\", color=\"sex\", \n",
    "                 title=\"Doctorate recipients by sex for selected years\")\n",
    "\n",
    "    fig.update_layout(transition_duration=500)\n",
    "\n",
    "    return fig\n",
    "\n",
    "app.run_server(mode='inline',debug=True)"
   ]
  },
  {
   "cell_type": "markdown",
   "metadata": {},
   "source": [
    "- The Trend of number of doctorate recipients by sex from 1987 to 2017"
   ]
  },
  {
   "cell_type": "markdown",
   "metadata": {},
   "source": [
    "For the chart below, you can play with the dropdown box and checklist to interact with the figure."
   ]
  },
  {
   "cell_type": "code",
   "execution_count": 247,
   "metadata": {
    "scrolled": true
   },
   "outputs": [
    {
     "data": {
      "text/html": [
       "\n",
       "        <iframe\n",
       "            width=\"100%\"\n",
       "            height=\"650\"\n",
       "            src=\"http://127.0.0.1:8050/\"\n",
       "            frameborder=\"0\"\n",
       "            allowfullscreen\n",
       "        ></iframe>\n",
       "        "
      ],
      "text/plain": [
       "<IPython.lib.display.IFrame at 0x1e3d01ad0a0>"
      ]
     },
     "metadata": {},
     "output_type": "display_data"
    }
   ],
   "source": [
    "external_stylesheets = ['https://codepen.io/chriddyp/pen/bWLwgP.css']\n",
    "\n",
    "app = JupyterDash(__name__, external_stylesheets=external_stylesheets)\n",
    "\n",
    "available_fields = df2['Field of study'].unique()\n",
    "\n",
    "app.layout = html.Div([\n",
    "              \n",
    "            html.Label('Field of study'),\n",
    "            dcc.Dropdown(\n",
    "                id='Field',\n",
    "                options=[{'label': i, 'value': i} for i in available_fields],\n",
    "                value='Life sciences'\n",
    "            ),\n",
    "            \n",
    "            \n",
    "            html.Label('Sex'),                        \n",
    "            dcc.Checklist(\n",
    "                id='sex',\n",
    "                options=[{'label': i, 'value': i} for i in ['Female', 'Male']],\n",
    "                value=['Female', 'Male']\n",
    "            ) ,               \n",
    "                   \n",
    "            dcc.Graph(id='fields-graphic'),\n",
    "\n",
    "])\n",
    "\n",
    "@app.callback(\n",
    "    Output('fields-graphic', 'figure'),\n",
    "    [Input('Field', 'value'),\n",
    "     Input('sex', 'value')\n",
    "     ])\n",
    "def update_graph(field, sex):\n",
    "\n",
    "    dff = df2[df2['Field of study'] == field]\n",
    "    \n",
    "    if sex == []:\n",
    "        fig = px.line()\n",
    "    elif (sex == ['Female']) or ( sex == ['Male']) :\n",
    "        fig = px.line(dff[dff['sex']== sex[0]], x=\"year\", y=\"number\")\n",
    "    else:\n",
    "        fig = px.line(dff, x=\"year\", y=\"number\", color='sex')\n",
    "\n",
    "    \n",
    "    return fig\n",
    "\n",
    "app.run_server(mode='inline',debug=True)"
   ]
  },
  {
   "cell_type": "markdown",
   "metadata": {},
   "source": [
    "- Doctorate recipients by major field of study and their according sex and citizenship information summary"
   ]
  },
  {
   "cell_type": "markdown",
   "metadata": {},
   "source": [
    "The charts below combine all the information in table 14 and table 17. When your mouse **hover** on the bar chart on the left, the sex and citizenship information in the according field will show on the right simultaneously."
   ]
  },
  {
   "cell_type": "code",
   "execution_count": 249,
   "metadata": {
    "scrolled": true
   },
   "outputs": [
    {
     "data": {
      "text/html": [
       "\n",
       "        <iframe\n",
       "            width=\"100%\"\n",
       "            height=\"650\"\n",
       "            src=\"http://127.0.0.1:8050/\"\n",
       "            frameborder=\"0\"\n",
       "            allowfullscreen\n",
       "        ></iframe>\n",
       "        "
      ],
      "text/plain": [
       "<IPython.lib.display.IFrame at 0x1e3d02f6fd0>"
      ]
     },
     "metadata": {},
     "output_type": "display_data"
    }
   ],
   "source": [
    "external_stylesheets = ['https://codepen.io/chriddyp/pen/bWLwgP.css']\n",
    "app = JupyterDash(__name__, external_stylesheets=external_stylesheets)\n",
    "\n",
    "available_years = df2a['year'].unique()\n",
    "\n",
    "app.layout = html.Div([\n",
    "    html.Div([\n",
    "\n",
    "        html.Div([\n",
    "            dcc.Dropdown(\n",
    "                id='year',\n",
    "                options=[{'label': i, 'value': i} for i in available_years],\n",
    "                value='2017'\n",
    "            ),\n",
    "      \n",
    "        ],\n",
    "        style={'width': '49%', 'display': 'inline-block'})      \n",
    "    \n",
    "    ], style={\n",
    "        'borderBottom': 'thin lightgrey solid',\n",
    "        'backgroundColor': 'rgb(250, 250, 250)',\n",
    "        'padding': '10px 5px'\n",
    "    }), \n",
    "     \n",
    "    \n",
    "    html.Div([\n",
    "        dcc.Graph(\n",
    "            id='allfield_barchart',\n",
    "            hoverData={'points': [{'label': 'Life sciences'}]}\n",
    "        )\n",
    "    ], style={ 'width': '49%', 'display': 'inline-block', 'padding': '0 20'}),\n",
    "    \n",
    "   \n",
    "    \n",
    "    \n",
    "    html.Div([\n",
    "        dcc.Graph(id='sex-prop'),\n",
    "        dcc.Graph(id='citizen-prop'),\n",
    "    ], style={'display': 'inline-block', 'width': '49%'})\n",
    "    \n",
    "   \n",
    "])\n",
    "\n",
    "\n",
    "@app.callback(\n",
    "    Output('allfield_barchart', 'figure'),\n",
    "    [Input('year', 'value')\n",
    "    ])\n",
    "def update_graph(year_value):\n",
    "    \n",
    "    if year_value == None:\n",
    "        fig = px.bar()\n",
    "    else:    \n",
    "        dff = df2a[df2a['year'] == int(year_value)]\n",
    "        fig = px.bar(dff, x=\"Field of study\", y=\"number\", template='seaborn',\n",
    "                    title=\"Number of Doctorate recipients by field in %s\" % year_value)\n",
    "\n",
    "        fig.update_layout(autosize= True, height=800 ,\n",
    "                          margin={'l': 20, 'b': 40, 't': 40, 'r': 20}, hovermode='closest')\n",
    "\n",
    "    return fig\n",
    "\n",
    "@app.callback(\n",
    "    Output('sex-prop', 'figure'),\n",
    "    [Input('allfield_barchart', 'hoverData'),\n",
    "    Input('year', 'value')\n",
    "    ])\n",
    "def update_sex_prop(hoverData, year_value):\n",
    "    if year_value == None:\n",
    "        fig = px.pie()\n",
    "    else: \n",
    "        field_name = hoverData['points'][0]['label']\n",
    "        dff =  df2[ (df2['year'] == int(year_value)) & (df2['Field of study'] == field_name ) ]\n",
    "    \n",
    "        #title = '<b>{}</b><br>{}'.format(country_name, xaxis_column_name)\n",
    "        fig = px.pie(dff, values='number', names='sex',template='seaborn')\n",
    "        \n",
    "        fig.update_layout(legend=dict(orientation=\"h\",\n",
    "        yanchor=\"bottom\",y=1.02,\n",
    "        xanchor=\"right\",x=1),\n",
    "        title={'text': \"sex\",'y':0.1, 'x':0.5})\n",
    "    \n",
    "    return fig\n",
    "\n",
    "\n",
    "@app.callback(\n",
    "    Output('citizen-prop', 'figure'),\n",
    "    [Input('allfield_barchart', 'hoverData'),\n",
    "    Input('year', 'value')\n",
    "    ])\n",
    "def update_sex_prop(hoverData, year_value):\n",
    "    if year_value == None:\n",
    "        fig = px.pie()\n",
    "    else: \n",
    "        field_name = hoverData['points'][0]['label']\n",
    "        dff =  df5[ (df5['year'] == int(year_value)) & (df5['Field of study'] == field_name ) ]\n",
    "    \n",
    "        #title = '<b>{}</b><br>{}'.format(country_name, xaxis_column_name)\n",
    "        fig = px.pie(dff, values='number', names='citizenship',template='plotly')\n",
    "        \n",
    "        fig.update_layout(legend=dict(orientation=\"h\",\n",
    "        yanchor=\"bottom\",y=1.02,\n",
    "        xanchor=\"right\",x=1),\n",
    "        title={'text': \"citizenship\",'y':0.1, 'x':0.5})\n",
    "    \n",
    "    return fig\n",
    "\n",
    "\n",
    "app.run_server(mode='inline',debug=True)"
   ]
  },
  {
   "cell_type": "code",
   "execution_count": null,
   "metadata": {},
   "outputs": [],
   "source": []
  }
 ],
 "metadata": {
  "kernelspec": {
   "display_name": "Python 3",
   "language": "python",
   "name": "python3"
  },
  "language_info": {
   "codemirror_mode": {
    "name": "ipython",
    "version": 3
   },
   "file_extension": ".py",
   "mimetype": "text/x-python",
   "name": "python",
   "nbconvert_exporter": "python",
   "pygments_lexer": "ipython3",
   "version": "3.8.5"
  }
 },
 "nbformat": 4,
 "nbformat_minor": 4
}
